{
 "cells": [
  {
   "cell_type": "code",
   "execution_count": 1,
   "metadata": {},
   "outputs": [],
   "source": [
    "from collections import defaultdict\n",
    "import os\n",
    "import random\n",
    "\n",
    "import matplotlib.pyplot as plt\n",
    "import networkx as nx\n",
    "import numpy as np\n",
    "import partridge as ptg\n",
    "import seaborn as sns\n",
    "\n",
    "sns.set(color_codes=True)\n",
    "%matplotlib inline"
   ]
  },
  {
   "cell_type": "code",
   "execution_count": 2,
   "metadata": {},
   "outputs": [],
   "source": [
    "START = object()\n",
    "END = object()\n",
    "\n",
    "\n",
    "def bus_trips(feed):\n",
    "    return (feed.stop_times\n",
    "                .merge(feed.trips.merge(feed.routes[feed.routes.route_type==3]))\n",
    "                .merge(feed.stops)\n",
    "                .sort_values('stop_sequence')\n",
    "                .groupby('trip_id'))\n",
    "\n",
    "\n",
    "def gen_paths(edges, seen):\n",
    "    seen = set(seen)\n",
    "    while True:\n",
    "        for next_stop_id in set(edges[START]):\n",
    "            stops = []\n",
    "            while True:\n",
    "                next_stop_id = random.choice(edges[next_stop_id])\n",
    "                if next_stop_id is END: break\n",
    "                stops.append(next_stop_id)\n",
    "            pattern = tuple(stops)\n",
    "            if (\n",
    "                len(pattern) > 1 and\n",
    "                len(pattern) == len(set(pattern)) and\n",
    "                pattern not in seen\n",
    "            ):\n",
    "                yield pattern\n",
    "                seen.add(pattern)\n",
    "\n",
    "\n",
    "def sampler(feed, n=20, burn_in=500, threshold=0.5):\n",
    "    trips = bus_trips(feed)\n",
    "    edges = defaultdict(list)\n",
    "    seen = set()\n",
    "    for _trip_id, stop_times in trips:\n",
    "        pattern = tuple(stop_times.stop_id)\n",
    "        seen.add(pattern)\n",
    "        # Weight edges by the number of trips\n",
    "        edges[START].append(pattern[0])\n",
    "        edges[pattern[-1]].append(END)\n",
    "        for a, b in zip(pattern[:-1], pattern[1:]):\n",
    "            edges[a].append(b)\n",
    "\n",
    "    patterns = []\n",
    "    # Allocate a large array of `nan`s to overwrite\n",
    "    lengths = np.empty(int(1e6), dtype=np.float64)\n",
    "    lengths.fill(np.nan)\n",
    "    for i, pattern in enumerate(gen_paths(edges, seen)):\n",
    "        patterns.append(pattern)\n",
    "        lengths[i] = len(pattern)\n",
    "        if (\n",
    "            burn_in < i and\n",
    "            # Use standard error of the mean to test convergence\n",
    "            # http://rlhick.people.wm.edu/stories/bayesian_5.html#\n",
    "            threshold > lengths[:i].std() / np.sqrt(i)\n",
    "        ):\n",
    "            break\n",
    "\n",
    "    # Select patterns with a \"reasonable\" number of stops\n",
    "    lengths = lengths[~np.isnan(lengths)]\n",
    "    floor = np.percentile(lengths, 40)\n",
    "    ceil = np.percentile(lengths, 60)\n",
    "    idxes = set(np.argwhere(np.logical_and(lengths > floor, lengths < ceil))[:,0])\n",
    "    patterns = [\n",
    "        pattern for i, pattern in enumerate(patterns)\n",
    "        if i in idxes\n",
    "    ]        \n",
    "\n",
    "    # Find a grouping which forms a DAG... for beauty\n",
    "    sample_size = min([n, int(0.1 * len(patterns))])\n",
    "    batches = 0\n",
    "    while True:\n",
    "        batches += 1\n",
    "        sample_patterns = random.sample(patterns, sample_size)\n",
    "        G = nx.DiGraph()\n",
    "        for pattern in sample_patterns:\n",
    "            G.add_edges_from(zip(pattern[:-1], pattern[1:]))\n",
    "        if nx.is_directed_acyclic_graph(G):\n",
    "            break\n",
    "\n",
    "    print(batches, feed.path)\n",
    "    return sample_patterns, lengths"
   ]
  },
  {
   "cell_type": "code",
   "execution_count": null,
   "metadata": {},
   "outputs": [
    {
     "name": "stdout",
     "output_type": "stream",
     "text": [
      "1 data/TriMet-2018-02-06.zip\n",
      "1 data/SFMTA-2017-10-26.zip\n",
      "1 data/LA-Metro-Bus-2018-02-20.zip\n",
      "1 data/MBTA-2018-02-28.zip\n"
     ]
    }
   ],
   "source": [
    "paths = [\n",
    "    'data/TriMet-2018-02-06.zip',\n",
    "    'data/SFMTA-2017-10-26.zip',\n",
    "    'data/LA-Metro-Bus-2018-02-20.zip',\n",
    "    'data/MBTA-2018-02-28.zip',\n",
    "    'data/Greater-Sydney-2017-06-13.zip',\n",
    "]\n",
    "\n",
    "results = {}\n",
    "for path in paths:\n",
    "    feed = ptg.get_representative_feed(path)\n",
    "    stops = {s.stop_id: dict(s) for _, s in feed.stops.iterrows()}\n",
    "    samples, lengths = sampler(feed, n=1, burn_in=500, threshold=0.8)\n",
    "    results[path] = dict(feed=feed, samples=samples, lengths=lengths, stops=stops)"
   ]
  },
  {
   "cell_type": "code",
   "execution_count": null,
   "metadata": {},
   "outputs": [],
   "source": [
    "fig, ax = plt.subplots(figsize=(14, 7));\n",
    "\n",
    "for path, result in results.items():\n",
    "    label, _ = os.path.splitext(os.path.basename(path))\n",
    "    _ = sns.kdeplot(result['lengths'], ax=ax, label=label)\n",
    "\n",
    "plt.title('Distribution of sample pattern lengths', size=15);\n",
    "plt.legend(prop=dict(size=15));"
   ]
  },
  {
   "cell_type": "code",
   "execution_count": null,
   "metadata": {},
   "outputs": [],
   "source": [
    "result = results[paths[1]]\n",
    "pattern = result['samples'][0]\n",
    "for stop_id in pattern:\n",
    "    print(result['stops'][stop_id]['stop_name'])"
   ]
  }
 ],
 "metadata": {
  "kernelspec": {
   "display_name": "Python 3",
   "language": "python",
   "name": "python3"
  },
  "language_info": {
   "codemirror_mode": {
    "name": "ipython",
    "version": 3
   },
   "file_extension": ".py",
   "mimetype": "text/x-python",
   "name": "python",
   "nbconvert_exporter": "python",
   "pygments_lexer": "ipython3",
   "version": "3.6.2"
  }
 },
 "nbformat": 4,
 "nbformat_minor": 2
}
