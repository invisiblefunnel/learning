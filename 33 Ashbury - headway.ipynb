{
 "cells": [
  {
   "cell_type": "code",
   "execution_count": 1,
   "metadata": {
    "collapsed": true
   },
   "outputs": [],
   "source": [
    "import numpy as np\n",
    "import partridge as ptg\n",
    "import pandas as pd"
   ]
  },
  {
   "cell_type": "code",
   "execution_count": 2,
   "metadata": {
    "collapsed": true
   },
   "outputs": [],
   "source": [
    "path = 'data/SFMTA-2017-06-29.zip'"
   ]
  },
  {
   "cell_type": "code",
   "execution_count": 3,
   "metadata": {
    "scrolled": false
   },
   "outputs": [
    {
     "data": {
      "text/plain": [
       "(datetime.date(2017, 6, 12), 11856, ['1'])"
      ]
     },
     "execution_count": 3,
     "metadata": {},
     "output_type": "execute_result"
    }
   ],
   "source": [
    "service_ids_by_date = ptg.read_service_ids_by_date(path)\n",
    "trip_counts_by_date = ptg.read_trip_counts_by_date(path)\n",
    "\n",
    "busiest_date, trip_count = max(trip_counts_by_date.items(), key=lambda p: p[1])\n",
    "busiest_date, trip_count, list(service_ids_by_date[busiest_date])"
   ]
  },
  {
   "cell_type": "code",
   "execution_count": 4,
   "metadata": {
    "collapsed": true
   },
   "outputs": [],
   "source": [
    "feed = ptg.feed(path, view={\n",
    "    'trips.txt': {\n",
    "        'service_id': service_ids_by_date[busiest_date],\n",
    "    },\n",
    "})"
   ]
  },
  {
   "cell_type": "code",
   "execution_count": 5,
   "metadata": {},
   "outputs": [
    {
     "data": {
      "text/html": [
       "<div>\n",
       "<style>\n",
       "    .dataframe thead tr:only-child th {\n",
       "        text-align: right;\n",
       "    }\n",
       "\n",
       "    .dataframe thead th {\n",
       "        text-align: left;\n",
       "    }\n",
       "\n",
       "    .dataframe tbody tr th {\n",
       "        vertical-align: top;\n",
       "    }\n",
       "</style>\n",
       "<table border=\"1\" class=\"dataframe\">\n",
       "  <thead>\n",
       "    <tr style=\"text-align: right;\">\n",
       "      <th></th>\n",
       "      <th>route_id</th>\n",
       "      <th>agency_id</th>\n",
       "      <th>route_short_name</th>\n",
       "      <th>route_long_name</th>\n",
       "      <th>route_desc</th>\n",
       "      <th>route_type</th>\n",
       "      <th>route_url</th>\n",
       "      <th>route_color</th>\n",
       "      <th>route_text_color</th>\n",
       "    </tr>\n",
       "  </thead>\n",
       "  <tbody>\n",
       "    <tr>\n",
       "      <th>39</th>\n",
       "      <td>12097</td>\n",
       "      <td>SFMTA</td>\n",
       "      <td>33</td>\n",
       "      <td>ASHBURY-18TH ST</td>\n",
       "      <td>NaN</td>\n",
       "      <td>3</td>\n",
       "      <td>NaN</td>\n",
       "      <td>NaN</td>\n",
       "      <td>NaN</td>\n",
       "    </tr>\n",
       "  </tbody>\n",
       "</table>\n",
       "</div>"
      ],
      "text/plain": [
       "   route_id agency_id route_short_name  route_long_name route_desc  \\\n",
       "39    12097     SFMTA               33  ASHBURY-18TH ST        NaN   \n",
       "\n",
       "    route_type route_url route_color route_text_color  \n",
       "39           3       NaN         NaN              NaN  "
      ]
     },
     "execution_count": 5,
     "metadata": {},
     "output_type": "execute_result"
    }
   ],
   "source": [
    "feed.routes[feed.routes.route_short_name=='33']"
   ]
  },
  {
   "cell_type": "code",
   "execution_count": 6,
   "metadata": {},
   "outputs": [
    {
     "data": {
      "text/html": [
       "<div>\n",
       "<style>\n",
       "    .dataframe thead tr:only-child th {\n",
       "        text-align: right;\n",
       "    }\n",
       "\n",
       "    .dataframe thead th {\n",
       "        text-align: left;\n",
       "    }\n",
       "\n",
       "    .dataframe tbody tr th {\n",
       "        vertical-align: top;\n",
       "    }\n",
       "</style>\n",
       "<table border=\"1\" class=\"dataframe\">\n",
       "  <thead>\n",
       "    <tr style=\"text-align: right;\">\n",
       "      <th></th>\n",
       "      <th>route_id</th>\n",
       "      <th>service_id</th>\n",
       "      <th>trip_id</th>\n",
       "      <th>trip_headsign</th>\n",
       "      <th>direction_id</th>\n",
       "      <th>block_id</th>\n",
       "      <th>shape_id</th>\n",
       "    </tr>\n",
       "  </thead>\n",
       "  <tbody>\n",
       "    <tr>\n",
       "      <th>13766</th>\n",
       "      <td>12097</td>\n",
       "      <td>1</td>\n",
       "      <td>7505512</td>\n",
       "      <td>Potrero + 25th Street</td>\n",
       "      <td>0</td>\n",
       "      <td>3308</td>\n",
       "      <td>145375</td>\n",
       "    </tr>\n",
       "    <tr>\n",
       "      <th>13767</th>\n",
       "      <td>12097</td>\n",
       "      <td>1</td>\n",
       "      <td>7505511</td>\n",
       "      <td>Potrero + 25th Street</td>\n",
       "      <td>0</td>\n",
       "      <td>3307</td>\n",
       "      <td>145375</td>\n",
       "    </tr>\n",
       "    <tr>\n",
       "      <th>13768</th>\n",
       "      <td>12097</td>\n",
       "      <td>1</td>\n",
       "      <td>7505510</td>\n",
       "      <td>Potrero + 25th Street</td>\n",
       "      <td>0</td>\n",
       "      <td>3305</td>\n",
       "      <td>145375</td>\n",
       "    </tr>\n",
       "    <tr>\n",
       "      <th>13769</th>\n",
       "      <td>12097</td>\n",
       "      <td>1</td>\n",
       "      <td>7505509</td>\n",
       "      <td>Potrero + 25th Street</td>\n",
       "      <td>0</td>\n",
       "      <td>3304</td>\n",
       "      <td>145375</td>\n",
       "    </tr>\n",
       "    <tr>\n",
       "      <th>13791</th>\n",
       "      <td>12097</td>\n",
       "      <td>1</td>\n",
       "      <td>7505508</td>\n",
       "      <td>Potrero + 25th Street</td>\n",
       "      <td>0</td>\n",
       "      <td>3305</td>\n",
       "      <td>145376</td>\n",
       "    </tr>\n",
       "  </tbody>\n",
       "</table>\n",
       "</div>"
      ],
      "text/plain": [
       "      route_id service_id  trip_id          trip_headsign  direction_id  \\\n",
       "13766    12097          1  7505512  Potrero + 25th Street             0   \n",
       "13767    12097          1  7505511  Potrero + 25th Street             0   \n",
       "13768    12097          1  7505510  Potrero + 25th Street             0   \n",
       "13769    12097          1  7505509  Potrero + 25th Street             0   \n",
       "13791    12097          1  7505508  Potrero + 25th Street             0   \n",
       "\n",
       "      block_id shape_id  \n",
       "13766     3308   145375  \n",
       "13767     3307   145375  \n",
       "13768     3305   145375  \n",
       "13769     3304   145375  \n",
       "13791     3305   145376  "
      ]
     },
     "execution_count": 6,
     "metadata": {},
     "output_type": "execute_result"
    }
   ],
   "source": [
    "trips = feed.trips[feed.trips.route_id=='12097'] # 33 Ashbury-18th St\n",
    "trips.head()"
   ]
  },
  {
   "cell_type": "code",
   "execution_count": 7,
   "metadata": {},
   "outputs": [
    {
     "name": "stdout",
     "output_type": "stream",
     "text": [
      "{'7505462', '7505459', '7505463', '7505544', '7505464', '7505470', '7505474', '7505547', '7505467', '7505549', '7505471', '7505472', '7505466', '7505545', '7505551', '7505538', '7505541', '7505543', '7505465', '7505548', '7505460', '7505540', '7505542', '7505537', '7505468', '7505539', '7505473', '7505546', '7505461', '7505469', '7505550'}\n"
     ]
    },
    {
     "data": {
      "text/html": [
       "<div>\n",
       "<style>\n",
       "    .dataframe thead tr:only-child th {\n",
       "        text-align: right;\n",
       "    }\n",
       "\n",
       "    .dataframe thead th {\n",
       "        text-align: left;\n",
       "    }\n",
       "\n",
       "    .dataframe tbody tr th {\n",
       "        vertical-align: top;\n",
       "    }\n",
       "</style>\n",
       "<table border=\"1\" class=\"dataframe\">\n",
       "  <thead>\n",
       "    <tr style=\"text-align: right;\">\n",
       "      <th></th>\n",
       "      <th>trip_id</th>\n",
       "      <th>arrival_time</th>\n",
       "      <th>departure_time</th>\n",
       "      <th>stop_id</th>\n",
       "      <th>stop_sequence</th>\n",
       "      <th>stop_headsign</th>\n",
       "      <th>pickup_type</th>\n",
       "      <th>drop_off_type</th>\n",
       "      <th>shape_dist_traveled</th>\n",
       "    </tr>\n",
       "  </thead>\n",
       "  <tbody>\n",
       "    <tr>\n",
       "      <th>492292</th>\n",
       "      <td>7505459</td>\n",
       "      <td>64500.0</td>\n",
       "      <td>64500.0</td>\n",
       "      <td>6293</td>\n",
       "      <td>1</td>\n",
       "      <td>NaN</td>\n",
       "      <td>NaN</td>\n",
       "      <td>NaN</td>\n",
       "      <td>NaN</td>\n",
       "    </tr>\n",
       "    <tr>\n",
       "      <th>492293</th>\n",
       "      <td>7505459</td>\n",
       "      <td>64563.0</td>\n",
       "      <td>64563.0</td>\n",
       "      <td>3879</td>\n",
       "      <td>2</td>\n",
       "      <td>NaN</td>\n",
       "      <td>NaN</td>\n",
       "      <td>NaN</td>\n",
       "      <td>NaN</td>\n",
       "    </tr>\n",
       "    <tr>\n",
       "      <th>492294</th>\n",
       "      <td>7505459</td>\n",
       "      <td>64604.0</td>\n",
       "      <td>64604.0</td>\n",
       "      <td>3852</td>\n",
       "      <td>3</td>\n",
       "      <td>NaN</td>\n",
       "      <td>NaN</td>\n",
       "      <td>NaN</td>\n",
       "      <td>NaN</td>\n",
       "    </tr>\n",
       "    <tr>\n",
       "      <th>492295</th>\n",
       "      <td>7505459</td>\n",
       "      <td>64667.0</td>\n",
       "      <td>64667.0</td>\n",
       "      <td>3644</td>\n",
       "      <td>4</td>\n",
       "      <td>NaN</td>\n",
       "      <td>NaN</td>\n",
       "      <td>NaN</td>\n",
       "      <td>NaN</td>\n",
       "    </tr>\n",
       "    <tr>\n",
       "      <th>492296</th>\n",
       "      <td>7505459</td>\n",
       "      <td>64747.0</td>\n",
       "      <td>64747.0</td>\n",
       "      <td>3645</td>\n",
       "      <td>5</td>\n",
       "      <td>NaN</td>\n",
       "      <td>NaN</td>\n",
       "      <td>NaN</td>\n",
       "      <td>NaN</td>\n",
       "    </tr>\n",
       "  </tbody>\n",
       "</table>\n",
       "</div>"
      ],
      "text/plain": [
       "        trip_id  arrival_time  departure_time stop_id  stop_sequence  \\\n",
       "492292  7505459       64500.0         64500.0    6293              1   \n",
       "492293  7505459       64563.0         64563.0    3879              2   \n",
       "492294  7505459       64604.0         64604.0    3852              3   \n",
       "492295  7505459       64667.0         64667.0    3644              4   \n",
       "492296  7505459       64747.0         64747.0    3645              5   \n",
       "\n",
       "       stop_headsign pickup_type drop_off_type shape_dist_traveled  \n",
       "492292           NaN         NaN           NaN                 NaN  \n",
       "492293           NaN         NaN           NaN                 NaN  \n",
       "492294           NaN         NaN           NaN                 NaN  \n",
       "492295           NaN         NaN           NaN                 NaN  \n",
       "492296           NaN         NaN           NaN                 NaN  "
      ]
     },
     "execution_count": 7,
     "metadata": {},
     "output_type": "execute_result"
    }
   ],
   "source": [
    "stimes = feed.stop_times[feed.stop_times.trip_id.isin(trips.trip_id)]\n",
    "\n",
    "stimes = stimes[\n",
    "    (stimes.arrival_time >= 15*60*60)  # 3pm\n",
    "    & (stimes.arrival_time <= 18*60*60) # 6pm\n",
    "]\n",
    "\n",
    "print(set(stimes.trip_id))\n",
    "stimes.head()"
   ]
  },
  {
   "cell_type": "code",
   "execution_count": 8,
   "metadata": {},
   "outputs": [
    {
     "data": {
      "text/html": [
       "<div>\n",
       "<style>\n",
       "    .dataframe thead tr:only-child th {\n",
       "        text-align: right;\n",
       "    }\n",
       "\n",
       "    .dataframe thead th {\n",
       "        text-align: left;\n",
       "    }\n",
       "\n",
       "    .dataframe tbody tr th {\n",
       "        vertical-align: top;\n",
       "    }\n",
       "</style>\n",
       "<table border=\"1\" class=\"dataframe\">\n",
       "  <thead>\n",
       "    <tr style=\"text-align: right;\">\n",
       "      <th></th>\n",
       "      <th>route_id</th>\n",
       "      <th>trip_id</th>\n",
       "      <th>trip_headsign</th>\n",
       "      <th>direction_id</th>\n",
       "      <th>stop_sequence</th>\n",
       "      <th>arrival_time</th>\n",
       "    </tr>\n",
       "  </thead>\n",
       "  <tbody>\n",
       "    <tr>\n",
       "      <th>541</th>\n",
       "      <td>12097</td>\n",
       "      <td>7505548</td>\n",
       "      <td>Sacramento + Cherry</td>\n",
       "      <td>1</td>\n",
       "      <td>1</td>\n",
       "      <td>54120.0</td>\n",
       "    </tr>\n",
       "    <tr>\n",
       "      <th>6</th>\n",
       "      <td>12097</td>\n",
       "      <td>7505470</td>\n",
       "      <td>Potrero + 25th Street</td>\n",
       "      <td>0</td>\n",
       "      <td>1</td>\n",
       "      <td>54600.0</td>\n",
       "    </tr>\n",
       "    <tr>\n",
       "      <th>542</th>\n",
       "      <td>12097</td>\n",
       "      <td>7505547</td>\n",
       "      <td>Sacramento + Cherry</td>\n",
       "      <td>1</td>\n",
       "      <td>1</td>\n",
       "      <td>55020.0</td>\n",
       "    </tr>\n",
       "    <tr>\n",
       "      <th>7</th>\n",
       "      <td>12097</td>\n",
       "      <td>7505469</td>\n",
       "      <td>Potrero + 25th Street</td>\n",
       "      <td>0</td>\n",
       "      <td>1</td>\n",
       "      <td>55500.0</td>\n",
       "    </tr>\n",
       "    <tr>\n",
       "      <th>543</th>\n",
       "      <td>12097</td>\n",
       "      <td>7505546</td>\n",
       "      <td>Sacramento + Cherry</td>\n",
       "      <td>1</td>\n",
       "      <td>1</td>\n",
       "      <td>55920.0</td>\n",
       "    </tr>\n",
       "  </tbody>\n",
       "</table>\n",
       "</div>"
      ],
      "text/plain": [
       "    route_id  trip_id          trip_headsign  direction_id  stop_sequence  \\\n",
       "541    12097  7505548    Sacramento + Cherry             1              1   \n",
       "6      12097  7505470  Potrero + 25th Street             0              1   \n",
       "542    12097  7505547    Sacramento + Cherry             1              1   \n",
       "7      12097  7505469  Potrero + 25th Street             0              1   \n",
       "543    12097  7505546    Sacramento + Cherry             1              1   \n",
       "\n",
       "     arrival_time  \n",
       "541       54120.0  \n",
       "6         54600.0  \n",
       "542       55020.0  \n",
       "7         55500.0  \n",
       "543       55920.0  "
      ]
     },
     "execution_count": 8,
     "metadata": {},
     "output_type": "execute_result"
    }
   ],
   "source": [
    "tstimes = pd.merge(trips, stimes, how='inner', on='trip_id')\n",
    "tstimes = pd.merge(tstimes, feed.stops, how='inner', on='stop_id')\n",
    "\n",
    "tstimes = tstimes.sort_values(['stop_sequence', 'arrival_time', 'departure_time'])\n",
    "\n",
    "tstimes.head()[['route_id', 'trip_id', 'trip_headsign', 'direction_id',\n",
    "                'stop_sequence', 'arrival_time']]"
   ]
  },
  {
   "cell_type": "code",
   "execution_count": 9,
   "metadata": {
    "collapsed": true
   },
   "outputs": [],
   "source": [
    "inbound = tstimes[\n",
    "    (tstimes.direction_id==0)\n",
    "    & (tstimes.stop_name=='ASHBURY ST & CLIFFORD TER')\n",
    "]"
   ]
  },
  {
   "cell_type": "code",
   "execution_count": 10,
   "metadata": {
    "scrolled": false
   },
   "outputs": [
    {
     "data": {
      "text/html": [
       "<div>\n",
       "<style>\n",
       "    .dataframe thead tr:only-child th {\n",
       "        text-align: right;\n",
       "    }\n",
       "\n",
       "    .dataframe thead th {\n",
       "        text-align: left;\n",
       "    }\n",
       "\n",
       "    .dataframe tbody tr th {\n",
       "        vertical-align: top;\n",
       "    }\n",
       "</style>\n",
       "<table border=\"1\" class=\"dataframe\">\n",
       "  <thead>\n",
       "    <tr style=\"text-align: right;\">\n",
       "      <th></th>\n",
       "      <th>trip_headsign</th>\n",
       "      <th>stop_name</th>\n",
       "      <th>arrival_time</th>\n",
       "    </tr>\n",
       "  </thead>\n",
       "  <tbody>\n",
       "    <tr>\n",
       "      <th>197</th>\n",
       "      <td>Potrero + 25th Street</td>\n",
       "      <td>ASHBURY ST &amp; CLIFFORD TER</td>\n",
       "      <td>54791.0</td>\n",
       "    </tr>\n",
       "    <tr>\n",
       "      <th>198</th>\n",
       "      <td>Potrero + 25th Street</td>\n",
       "      <td>ASHBURY ST &amp; CLIFFORD TER</td>\n",
       "      <td>55691.0</td>\n",
       "    </tr>\n",
       "    <tr>\n",
       "      <th>199</th>\n",
       "      <td>Potrero + 25th Street</td>\n",
       "      <td>ASHBURY ST &amp; CLIFFORD TER</td>\n",
       "      <td>56591.0</td>\n",
       "    </tr>\n",
       "    <tr>\n",
       "      <th>200</th>\n",
       "      <td>Potrero + 25th Street</td>\n",
       "      <td>ASHBURY ST &amp; CLIFFORD TER</td>\n",
       "      <td>57491.0</td>\n",
       "    </tr>\n",
       "    <tr>\n",
       "      <th>201</th>\n",
       "      <td>Potrero + 25th Street</td>\n",
       "      <td>ASHBURY ST &amp; CLIFFORD TER</td>\n",
       "      <td>58391.0</td>\n",
       "    </tr>\n",
       "  </tbody>\n",
       "</table>\n",
       "</div>"
      ],
      "text/plain": [
       "             trip_headsign                  stop_name  arrival_time\n",
       "197  Potrero + 25th Street  ASHBURY ST & CLIFFORD TER       54791.0\n",
       "198  Potrero + 25th Street  ASHBURY ST & CLIFFORD TER       55691.0\n",
       "199  Potrero + 25th Street  ASHBURY ST & CLIFFORD TER       56591.0\n",
       "200  Potrero + 25th Street  ASHBURY ST & CLIFFORD TER       57491.0\n",
       "201  Potrero + 25th Street  ASHBURY ST & CLIFFORD TER       58391.0"
      ]
     },
     "execution_count": 10,
     "metadata": {},
     "output_type": "execute_result"
    }
   ],
   "source": [
    "inbound.head()[['trip_headsign', 'stop_name', 'arrival_time']]"
   ]
  },
  {
   "cell_type": "code",
   "execution_count": 11,
   "metadata": {},
   "outputs": [
    {
     "data": {
      "text/plain": [
       "array([ 15.,  15.,  15.,  15.,  15.,  15.,  15.,  15.,  15.,  15.,  15.])"
      ]
     },
     "execution_count": 11,
     "metadata": {},
     "output_type": "execute_result"
    }
   ],
   "source": [
    "wait_seconds = inbound.arrival_time[1:].values - inbound.arrival_time[:-1].values\n",
    "wait_minutes = wait_seconds / 60\n",
    "wait_minutes"
   ]
  }
 ],
 "metadata": {
  "kernelspec": {
   "display_name": "Python 3",
   "language": "python",
   "name": "python3"
  },
  "language_info": {
   "codemirror_mode": {
    "name": "ipython",
    "version": 3
   },
   "file_extension": ".py",
   "mimetype": "text/x-python",
   "name": "python",
   "nbconvert_exporter": "python",
   "pygments_lexer": "ipython3",
   "version": "3.6.1"
  }
 },
 "nbformat": 4,
 "nbformat_minor": 2
}
